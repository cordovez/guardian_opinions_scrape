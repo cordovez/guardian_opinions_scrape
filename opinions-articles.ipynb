{
 "cells": [
  {
   "cell_type": "markdown",
   "id": "522e7493",
   "metadata": {},
   "source": [
    "# Scraping The Guardian: Opinion is Free"
   ]
  },
  {
   "cell_type": "markdown",
   "id": "28cbd5d8",
   "metadata": {},
   "source": [
    "This is the first level of a text analysis scaffold. I have chosen to scrape only a particular section of The Guardian to help me investigate the quality and usefullness of the text for analysis. I hope to be able to use Natural Language Processing to find value in the choice of words and phrases for students of English as a second language."
   ]
  },
  {
   "cell_type": "markdown",
   "id": "ac3e0f56",
   "metadata": {},
   "source": [
    "## First Steps:\n",
    "1. Scrape the relevant section and save the HTML into a file\n",
    "2. Read the HTML file and parse it using Beautiful Soup, and return only the relevant content (i.e., removing anything that is not related to the opinion articles)\n",
    "3. extract the specific information for each article (date, author, title, url)\n",
    "4. Create a data frame to visualise the data\n",
    "5. Export data as a .csv document"
   ]
  },
  {
   "cell_type": "code",
   "execution_count": 1,
   "id": "d6e91e1a",
   "metadata": {},
   "outputs": [],
   "source": [
    "import requests \n",
    "from datetime import datetime\n",
    "import re\n",
    "from bs4 import BeautifulSoup\n",
    "import pandas as pd"
   ]
  },
  {
   "cell_type": "markdown",
   "id": "2101f4b2",
   "metadata": {},
   "source": [
    "### Helper functions\n",
    "Only one function is called: \"main_export_to_csv\". The helper functions below do the heavy lifting *inside* the main function"
   ]
  },
  {
   "cell_type": "markdown",
   "id": "f5423eaf",
   "metadata": {},
   "source": [
    "`scrape_opinions_data()` scrapes the entire page and save to a file. Saving to a file is not strictly necessary, but it may help if I needed to consult the shape of the HTML."
   ]
  },
  {
   "cell_type": "code",
   "execution_count": 2,
   "id": "72f4c8e6",
   "metadata": {},
   "outputs": [],
   "source": [
    "def scrape_opinions_data():\n",
    "    opinions_url =\"https://www.theguardian.com/uk/commentisfree\"\n",
    "    response = requests.get(opinions_url)\n",
    "    main_content = response.text\n",
    "    \n",
    "    with open('opinions_webpage.html', 'w') as file:\n",
    "        file.write(main_content)"
   ]
  },
  {
   "cell_type": "markdown",
   "id": "dbcb95a5",
   "metadata": {},
   "source": [
    "With the help of Beautiful Soup, ```parse_select_main_content()``` can find and select only the part of the HTML that interest me."
   ]
  },
  {
   "cell_type": "code",
   "execution_count": 3,
   "id": "713156ad",
   "metadata": {},
   "outputs": [],
   "source": [
    "def parse_select_main_content():\n",
    "    with open('./opinions_webpage.html') as fp:\n",
    "        soup = BeautifulSoup(fp, 'html.parser')\n",
    "    \n",
    "    all_articles = soup.find('section', {'id': \"opinion\"}).find_all('div', {'class': \"fc-item__content\"})\n",
    "    \n",
    "    return all_articles"
   ]
  },
  {
   "cell_type": "markdown",
   "id": "a76441d3",
   "metadata": {},
   "source": [
    "While the date written in the date used in the URL is *human-readable*, it is better for future analysis to convert it to a predictable, *machine-readable* format."
   ]
  },
  {
   "cell_type": "code",
   "execution_count": 4,
   "id": "b875393d",
   "metadata": {},
   "outputs": [],
   "source": [
    "def parse_format_date(date):\n",
    "        date_title_case  = date.title()\n",
    "        long_date = datetime.strptime(date_title_case, '%Y/%b/%d')\n",
    "        date = datetime.date(long_date)\n",
    "        return date"
   ]
  },
  {
   "cell_type": "markdown",
   "id": "1b5ffc0b",
   "metadata": {},
   "source": [
    "`append_to_lists` is a little more difficult to read because I am performing a couple of steps in one compounded line. For example, the line that starts `authors.append ...` does three things:\n",
    "1. It finds a 'div' with class 'fc-item__byline' `.find('div', {'class': \"fc-item__byline\"})`,\n",
    "2. it strips the the white spaces and carriage returns from the text `.text.strip()`,\n",
    "3. and appends the result to the `authors` list"
   ]
  },
  {
   "cell_type": "code",
   "execution_count": 5,
   "id": "11373431",
   "metadata": {},
   "outputs": [],
   "source": [
    "def append_to_lists(articles):\n",
    "    for opinion in range(len(articles)):\n",
    "        authors.append(articles[opinion].find('div', {'class': \"fc-item__byline\"}).text.strip())\n",
    "        dates.append(parse_format_date(articles[opinion].h3.a['href'][42:53].title()))\n",
    "        titles.append(articles[opinion].find('span', {'class': \"js-headline-text\"}).text.strip())\n",
    "        urls.append(articles[opinion].h3.a['href'])\n"
   ]
  },
  {
   "cell_type": "markdown",
   "id": "07aedbfc",
   "metadata": {},
   "source": [
    "The `create_dict_df()` simply formats the various lists that result from `append_to_lists` above in a dictionary format (dict) so that Pandas can render it as a data frame (df)"
   ]
  },
  {
   "cell_type": "code",
   "execution_count": 6,
   "id": "cc020609",
   "metadata": {},
   "outputs": [],
   "source": [
    "def create_dict_df():\n",
    "    dic = {'date': dates, 'author': authors, 'title': titles, 'url': urls}\n",
    "    opinions_df = pd.DataFrame(dic)\n",
    "    \n",
    "    display(opinions_df)\n",
    "    return opinions_df"
   ]
  },
  {
   "cell_type": "code",
   "execution_count": 7,
   "id": "57672ee3",
   "metadata": {},
   "outputs": [],
   "source": [
    "def export_df_to_csv(df):\n",
    "    df.to_csv('opinions.csv', index=None)"
   ]
  },
  {
   "cell_type": "code",
   "execution_count": 8,
   "id": "c615ac80",
   "metadata": {},
   "outputs": [],
   "source": [
    "dates = []\n",
    "authors =[]\n",
    "titles =[]\n",
    "urls=[]\n",
    "def main_export_to_csv():\n",
    "    scrape_opinions_data()\n",
    "    article_items = parse_select_main_content()\n",
    "    append_to_lists(article_items)\n",
    "    df = create_dict_df()\n",
    "    export_df_to_csv(df)"
   ]
  },
  {
   "cell_type": "code",
   "execution_count": 9,
   "id": "67c37052",
   "metadata": {},
   "outputs": [
    {
     "data": {
      "text/html": [
       "<div>\n",
       "<style scoped>\n",
       "    .dataframe tbody tr th:only-of-type {\n",
       "        vertical-align: middle;\n",
       "    }\n",
       "\n",
       "    .dataframe tbody tr th {\n",
       "        vertical-align: top;\n",
       "    }\n",
       "\n",
       "    .dataframe thead th {\n",
       "        text-align: right;\n",
       "    }\n",
       "</style>\n",
       "<table border=\"1\" class=\"dataframe\">\n",
       "  <thead>\n",
       "    <tr style=\"text-align: right;\">\n",
       "      <th></th>\n",
       "      <th>date</th>\n",
       "      <th>author</th>\n",
       "      <th>title</th>\n",
       "      <th>url</th>\n",
       "    </tr>\n",
       "  </thead>\n",
       "  <tbody>\n",
       "    <tr>\n",
       "      <th>0</th>\n",
       "      <td>2023-01-28</td>\n",
       "      <td>Mark Rice-Oxley</td>\n",
       "      <td>To defeat Putin, we must support the brave Rus...</td>\n",
       "      <td>https://www.theguardian.com/commentisfree/2023...</td>\n",
       "    </tr>\n",
       "    <tr>\n",
       "      <th>1</th>\n",
       "      <td>2023-01-28</td>\n",
       "      <td>Charlotte Higgins</td>\n",
       "      <td>The Fabelmans will never be fought over like T...</td>\n",
       "      <td>https://www.theguardian.com/commentisfree/2023...</td>\n",
       "    </tr>\n",
       "    <tr>\n",
       "      <th>2</th>\n",
       "      <td>2023-01-27</td>\n",
       "      <td>Jonathan Freedland</td>\n",
       "      <td>The stench coming from this government? It’s t...</td>\n",
       "      <td>https://www.theguardian.com/commentisfree/2023...</td>\n",
       "    </tr>\n",
       "    <tr>\n",
       "      <th>3</th>\n",
       "      <td>2023-01-27</td>\n",
       "      <td>Marina Hyde</td>\n",
       "      <td>Why is British politics a raging bin-fire? Don...</td>\n",
       "      <td>https://www.theguardian.com/commentisfree/2023...</td>\n",
       "    </tr>\n",
       "    <tr>\n",
       "      <th>4</th>\n",
       "      <td>2023-01-27</td>\n",
       "      <td>James Bulgin</td>\n",
       "      <td>Hitler didn’t build the path to the Holocaust ...</td>\n",
       "      <td>https://www.theguardian.com/commentisfree/2023...</td>\n",
       "    </tr>\n",
       "    <tr>\n",
       "      <th>5</th>\n",
       "      <td>2023-01-27</td>\n",
       "      <td>Judy Griffith</td>\n",
       "      <td>Where is the justice, Suella Braverman, for me...</td>\n",
       "      <td>https://www.theguardian.com/commentisfree/2023...</td>\n",
       "    </tr>\n",
       "    <tr>\n",
       "      <th>6</th>\n",
       "      <td>2023-01-27</td>\n",
       "      <td>Gaby Hinsliff</td>\n",
       "      <td>Madonna is the material proof: older women roc...</td>\n",
       "      <td>https://www.theguardian.com/commentisfree/2023...</td>\n",
       "    </tr>\n",
       "    <tr>\n",
       "      <th>7</th>\n",
       "      <td>2023-01-27</td>\n",
       "      <td>Simon Jenkins</td>\n",
       "      <td>Bright lights, big cities: cash and HS2 are no...</td>\n",
       "      <td>https://www.theguardian.com/commentisfree/2023...</td>\n",
       "    </tr>\n",
       "    <tr>\n",
       "      <th>8</th>\n",
       "      <td>2023-01-27</td>\n",
       "      <td>Neal Lawson</td>\n",
       "      <td>Terrified of leavers and remainers, Labour off...</td>\n",
       "      <td>https://www.theguardian.com/commentisfree/2023...</td>\n",
       "    </tr>\n",
       "    <tr>\n",
       "      <th>9</th>\n",
       "      <td>2023-01-27</td>\n",
       "      <td>Ammar Kalia</td>\n",
       "      <td>Farewell, Netflix password sharing. Never agai...</td>\n",
       "      <td>https://www.theguardian.com/commentisfree/2023...</td>\n",
       "    </tr>\n",
       "    <tr>\n",
       "      <th>10</th>\n",
       "      <td>2023-01-26</td>\n",
       "      <td>George Monbiot</td>\n",
       "      <td>We are all playing Covid roulette. Without cle...</td>\n",
       "      <td>https://www.theguardian.com/commentisfree/2023...</td>\n",
       "    </tr>\n",
       "    <tr>\n",
       "      <th>11</th>\n",
       "      <td>2023-01-26</td>\n",
       "      <td>Polly Toynbee</td>\n",
       "      <td>Britain lavishes benefits on plenty of rich pe...</td>\n",
       "      <td>https://www.theguardian.com/commentisfree/2023...</td>\n",
       "    </tr>\n",
       "    <tr>\n",
       "      <th>12</th>\n",
       "      <td>2023-01-26</td>\n",
       "      <td>Jan-Philipp Hein</td>\n",
       "      <td>Don’t be fooled: Germany’s U-turn on sending t...</td>\n",
       "      <td>https://www.theguardian.com/commentisfree/2023...</td>\n",
       "    </tr>\n",
       "    <tr>\n",
       "      <th>13</th>\n",
       "      <td>2023-01-26</td>\n",
       "      <td>Owen Jones</td>\n",
       "      <td>My dad died five years ago. I’ve learned it’s ...</td>\n",
       "      <td>https://www.theguardian.com/commentisfree/2023...</td>\n",
       "    </tr>\n",
       "  </tbody>\n",
       "</table>\n",
       "</div>"
      ],
      "text/plain": [
       "          date              author  \\\n",
       "0   2023-01-28     Mark Rice-Oxley   \n",
       "1   2023-01-28   Charlotte Higgins   \n",
       "2   2023-01-27  Jonathan Freedland   \n",
       "3   2023-01-27         Marina Hyde   \n",
       "4   2023-01-27        James Bulgin   \n",
       "5   2023-01-27       Judy Griffith   \n",
       "6   2023-01-27       Gaby Hinsliff   \n",
       "7   2023-01-27       Simon Jenkins   \n",
       "8   2023-01-27         Neal Lawson   \n",
       "9   2023-01-27         Ammar Kalia   \n",
       "10  2023-01-26      George Monbiot   \n",
       "11  2023-01-26       Polly Toynbee   \n",
       "12  2023-01-26    Jan-Philipp Hein   \n",
       "13  2023-01-26          Owen Jones   \n",
       "\n",
       "                                                title  \\\n",
       "0   To defeat Putin, we must support the brave Rus...   \n",
       "1   The Fabelmans will never be fought over like T...   \n",
       "2   The stench coming from this government? It’s t...   \n",
       "3   Why is British politics a raging bin-fire? Don...   \n",
       "4   Hitler didn’t build the path to the Holocaust ...   \n",
       "5   Where is the justice, Suella Braverman, for me...   \n",
       "6   Madonna is the material proof: older women roc...   \n",
       "7   Bright lights, big cities: cash and HS2 are no...   \n",
       "8   Terrified of leavers and remainers, Labour off...   \n",
       "9   Farewell, Netflix password sharing. Never agai...   \n",
       "10  We are all playing Covid roulette. Without cle...   \n",
       "11  Britain lavishes benefits on plenty of rich pe...   \n",
       "12  Don’t be fooled: Germany’s U-turn on sending t...   \n",
       "13  My dad died five years ago. I’ve learned it’s ...   \n",
       "\n",
       "                                                  url  \n",
       "0   https://www.theguardian.com/commentisfree/2023...  \n",
       "1   https://www.theguardian.com/commentisfree/2023...  \n",
       "2   https://www.theguardian.com/commentisfree/2023...  \n",
       "3   https://www.theguardian.com/commentisfree/2023...  \n",
       "4   https://www.theguardian.com/commentisfree/2023...  \n",
       "5   https://www.theguardian.com/commentisfree/2023...  \n",
       "6   https://www.theguardian.com/commentisfree/2023...  \n",
       "7   https://www.theguardian.com/commentisfree/2023...  \n",
       "8   https://www.theguardian.com/commentisfree/2023...  \n",
       "9   https://www.theguardian.com/commentisfree/2023...  \n",
       "10  https://www.theguardian.com/commentisfree/2023...  \n",
       "11  https://www.theguardian.com/commentisfree/2023...  \n",
       "12  https://www.theguardian.com/commentisfree/2023...  \n",
       "13  https://www.theguardian.com/commentisfree/2023...  "
      ]
     },
     "metadata": {},
     "output_type": "display_data"
    }
   ],
   "source": [
    "main_export_to_csv()"
   ]
  },
  {
   "cell_type": "markdown",
   "id": "a83fb00d",
   "metadata": {},
   "source": [
    "## Next Steps ...\n",
    "with the csv, I can access the URLs and collect the text, count words, tokenize word and phrases, etc."
   ]
  }
 ],
 "metadata": {
  "kernelspec": {
   "display_name": "Python 3",
   "language": "python",
   "name": "python3"
  },
  "language_info": {
   "codemirror_mode": {
    "name": "ipython",
    "version": 3
   },
   "file_extension": ".py",
   "mimetype": "text/x-python",
   "name": "python",
   "nbconvert_exporter": "python",
   "pygments_lexer": "ipython3",
   "version": "3.11.1"
  },
  "vscode": {
   "interpreter": {
    "hash": "aee8b7b246df8f9039afb4144a1f6fd8d2ca17a180786b69acc140d282b71a49"
   }
  }
 },
 "nbformat": 4,
 "nbformat_minor": 5
}

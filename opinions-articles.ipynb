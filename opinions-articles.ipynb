{
 "cells": [
  {
   "cell_type": "markdown",
   "id": "53e3ef0a",
   "metadata": {},
   "source": [
    "# Scraping The Guardian: Opinion is Free"
   ]
  },
  {
   "cell_type": "markdown",
   "id": "a1d91a60",
   "metadata": {},
   "source": [
    "This is the first level of a text analysis scaffold. I have chosen to scrape only a particular section of The Guardian to help me investigate the quality and usefullness of the text for analysis. I hope to be able to use Natural Language Processing to find value in the choice of words and phrases for students of English as a second language."
   ]
  },
  {
   "cell_type": "markdown",
   "id": "e336a9f8",
   "metadata": {},
   "source": [
    "## The steps:\n",
    "1. Scrape the relevant section and save the HTML into a file\n",
    "2. Read the HTML file and parse it using Beautiful Soup, and return only the relevant content (i.e., removing anything that is not related to the opinion articles)\n",
    "3. extract the specific information for each article (date, author, title, url)\n",
    "4. Create a data frame to visualise the data\n",
    "5. Export data as a .csv document"
   ]
  },
  {
   "cell_type": "code",
   "execution_count": 6,
   "id": "98d1c80b",
   "metadata": {},
   "outputs": [],
   "source": [
    "import requests \n",
    "from datetime import datetime\n",
    "import re\n",
    "from bs4 import BeautifulSoup\n",
    "import pandas as pd"
   ]
  },
  {
   "cell_type": "markdown",
   "id": "e7635a6f",
   "metadata": {},
   "source": [
    "## Helper functions\n",
    "Only one function is called: \"main_export_to_csv\". The helper functions below do the heavy lifting *inside* the main function"
   ]
  },
  {
   "cell_type": "markdown",
   "id": "63ae2931",
   "metadata": {},
   "source": [
    "`scrape_opinions_data()` scrapes the entire page and save to a file. Saving to a file is not strictly necessary, but it may help if I needed to consult the shape of the HTML."
   ]
  },
  {
   "cell_type": "code",
   "execution_count": 7,
   "id": "40658f6a",
   "metadata": {},
   "outputs": [],
   "source": [
    "def scrape_opinions_data():\n",
    "    opinions_url =\"https://www.theguardian.com/uk/commentisfree\"\n",
    "    response = requests.get(opinions_url)\n",
    "    main_content = response.text\n",
    "    \n",
    "    with open('opinions_webpage.html', 'w') as file:\n",
    "        file.write(main_content)"
   ]
  },
  {
   "cell_type": "markdown",
   "id": "a85e56b7",
   "metadata": {},
   "source": [
    "With the help of Beautiful Soup, ```parse_select_main_content()``` can find and select only the part of the HTML that interest me."
   ]
  },
  {
   "cell_type": "code",
   "execution_count": 8,
   "id": "574960ee",
   "metadata": {},
   "outputs": [],
   "source": [
    "def parse_select_main_content():\n",
    "    with open('./opinions_webpage.html') as fp:\n",
    "        soup = BeautifulSoup(fp, 'html.parser')\n",
    "    \n",
    "    all_articles = soup.find('section', {'id': \"opinion\"}).find_all('div', {'class': \"fc-item__content\"})\n",
    "    \n",
    "    return all_articles"
   ]
  },
  {
   "cell_type": "markdown",
   "id": "a582d520",
   "metadata": {},
   "source": [
    "While the date written in the date used in the URL is *human-readable*, it is better for future analysis to convert it to a predictable, *machine-readable* format."
   ]
  },
  {
   "cell_type": "code",
   "execution_count": 9,
   "id": "e4420bc7",
   "metadata": {},
   "outputs": [],
   "source": [
    "def parse_format_date(date):\n",
    "        date_title_case  = date.title()\n",
    "        long_date = datetime.strptime(date_title_case, '%Y/%b/%d')\n",
    "        date = datetime.date(long_date)\n",
    "        return date"
   ]
  },
  {
   "cell_type": "markdown",
   "id": "82d40af6",
   "metadata": {},
   "source": [
    "`append_to_lists` is a little more difficult to read because I am performing a couple of steps in one compounded line. For example, the line that starts `authors.append ...` does three things:\n",
    "1. It finds a 'div' with class 'fc-item__byline' `.find('div', {'class': \"fc-item__byline\"})`,\n",
    "2. it strips the the white spaces and carriage returns from the text `.text.strip()`,\n",
    "3. and appends the result to the `authors` list"
   ]
  },
  {
   "cell_type": "code",
   "execution_count": 51,
   "id": "a25c650e",
   "metadata": {},
   "outputs": [],
   "source": [
    "def append_to_lists(articles):\n",
    "    for opinion in range(len(articles)):\n",
    "        authors.append(articles[opinion].find('div', {'class': \"fc-item__byline\"}).text.strip())\n",
    "        dates.append(parse_format_date(articles[opinion].h3.a['href'][42:53].title()))\n",
    "        titles.append(articles[opinion].find('span', {'class': \"js-headline-text\"}).text.strip())\n",
    "        urls.append(articles[opinion].h3.a['href'])\n"
   ]
  },
  {
   "cell_type": "markdown",
   "id": "8b01d768",
   "metadata": {},
   "source": [
    "The `create_dict_df()` simply formats the various lists that result from `append_to_lists` above in a dictionary format (dict) so that Pandas can render it as a data frame (df)"
   ]
  },
  {
   "cell_type": "code",
   "execution_count": 55,
   "id": "4e822e61",
   "metadata": {},
   "outputs": [],
   "source": [
    "def create_dict_df():\n",
    "    dic = {'date': dates, 'author': authors, 'title': titles, 'url': urls}\n",
    "    opinions_df = pd.DataFrame(dic)\n",
    "    \n",
    "    display(opinions_df)\n",
    "    return opinions_df"
   ]
  },
  {
   "cell_type": "code",
   "execution_count": 56,
   "id": "d8b9306e",
   "metadata": {},
   "outputs": [],
   "source": [
    "def export_df_to_csv(df):\n",
    "    df.to_csv('opinions.csv', index=None)"
   ]
  },
  {
   "cell_type": "code",
   "execution_count": 57,
   "id": "c2943bf8",
   "metadata": {},
   "outputs": [],
   "source": [
    "dates = []\n",
    "authors =[]\n",
    "titles =[]\n",
    "urls=[]\n",
    "def main_export_to_csv():\n",
    "    scrape_opinions_data()\n",
    "    article_items = parse_select_main_content()\n",
    "    append_to_lists(article_items)\n",
    "    df = create_dict_df()\n",
    "    export_df_to_csv(df)"
   ]
  },
  {
   "cell_type": "code",
   "execution_count": 58,
   "id": "20efb3e8",
   "metadata": {},
   "outputs": [
    {
     "data": {
      "text/html": [
       "<div>\n",
       "<style scoped>\n",
       "    .dataframe tbody tr th:only-of-type {\n",
       "        vertical-align: middle;\n",
       "    }\n",
       "\n",
       "    .dataframe tbody tr th {\n",
       "        vertical-align: top;\n",
       "    }\n",
       "\n",
       "    .dataframe thead th {\n",
       "        text-align: right;\n",
       "    }\n",
       "</style>\n",
       "<table border=\"1\" class=\"dataframe\">\n",
       "  <thead>\n",
       "    <tr style=\"text-align: right;\">\n",
       "      <th></th>\n",
       "      <th>date</th>\n",
       "      <th>author</th>\n",
       "      <th>title</th>\n",
       "      <th>url</th>\n",
       "    </tr>\n",
       "  </thead>\n",
       "  <tbody>\n",
       "    <tr>\n",
       "      <th>0</th>\n",
       "      <td>2023-01-27</td>\n",
       "      <td>Marina Hyde</td>\n",
       "      <td>Why is British politics a raging bin-fire? Don...</td>\n",
       "      <td>https://www.theguardian.com/commentisfree/2023...</td>\n",
       "    </tr>\n",
       "    <tr>\n",
       "      <th>1</th>\n",
       "      <td>2023-01-27</td>\n",
       "      <td>James Bulgin</td>\n",
       "      <td>Hitler didn’t build the path to the Holocaust ...</td>\n",
       "      <td>https://www.theguardian.com/commentisfree/2023...</td>\n",
       "    </tr>\n",
       "    <tr>\n",
       "      <th>2</th>\n",
       "      <td>2023-01-27</td>\n",
       "      <td>Judy Griffith</td>\n",
       "      <td>Where is the justice, Suella Braverman, for me...</td>\n",
       "      <td>https://www.theguardian.com/commentisfree/2023...</td>\n",
       "    </tr>\n",
       "    <tr>\n",
       "      <th>3</th>\n",
       "      <td>2023-01-27</td>\n",
       "      <td>Gaby Hinsliff</td>\n",
       "      <td>Madonna is the material proof: older women roc...</td>\n",
       "      <td>https://www.theguardian.com/commentisfree/2023...</td>\n",
       "    </tr>\n",
       "    <tr>\n",
       "      <th>4</th>\n",
       "      <td>2023-01-27</td>\n",
       "      <td>Simon Jenkins</td>\n",
       "      <td>Bright lights, big cities: cash and HS2 are no...</td>\n",
       "      <td>https://www.theguardian.com/commentisfree/2023...</td>\n",
       "    </tr>\n",
       "    <tr>\n",
       "      <th>5</th>\n",
       "      <td>2023-01-27</td>\n",
       "      <td>Neal Lawson</td>\n",
       "      <td>Terrified of leavers and remainers, Labour off...</td>\n",
       "      <td>https://www.theguardian.com/commentisfree/2023...</td>\n",
       "    </tr>\n",
       "    <tr>\n",
       "      <th>6</th>\n",
       "      <td>2023-01-27</td>\n",
       "      <td>Ammar Kalia</td>\n",
       "      <td>Farewell, Netflix password sharing. Never agai...</td>\n",
       "      <td>https://www.theguardian.com/commentisfree/2023...</td>\n",
       "    </tr>\n",
       "    <tr>\n",
       "      <th>7</th>\n",
       "      <td>2023-01-26</td>\n",
       "      <td>George Monbiot</td>\n",
       "      <td>We are all playing Covid roulette. Without cle...</td>\n",
       "      <td>https://www.theguardian.com/commentisfree/2023...</td>\n",
       "    </tr>\n",
       "    <tr>\n",
       "      <th>8</th>\n",
       "      <td>2023-01-26</td>\n",
       "      <td>Polly Toynbee</td>\n",
       "      <td>Britain lavishes benefits on plenty of rich pe...</td>\n",
       "      <td>https://www.theguardian.com/commentisfree/2023...</td>\n",
       "    </tr>\n",
       "    <tr>\n",
       "      <th>9</th>\n",
       "      <td>2023-01-26</td>\n",
       "      <td>Jan-Philipp Hein</td>\n",
       "      <td>Don’t be fooled: Germany’s U-turn on sending t...</td>\n",
       "      <td>https://www.theguardian.com/commentisfree/2023...</td>\n",
       "    </tr>\n",
       "    <tr>\n",
       "      <th>10</th>\n",
       "      <td>2023-01-26</td>\n",
       "      <td>Owen Jones</td>\n",
       "      <td>My dad died five years ago. I’ve learned it’s ...</td>\n",
       "      <td>https://www.theguardian.com/commentisfree/2023...</td>\n",
       "    </tr>\n",
       "    <tr>\n",
       "      <th>11</th>\n",
       "      <td>2023-01-26</td>\n",
       "      <td>Robert Palmer</td>\n",
       "      <td>If you’re rich there are legal – and not so le...</td>\n",
       "      <td>https://www.theguardian.com/commentisfree/2023...</td>\n",
       "    </tr>\n",
       "    <tr>\n",
       "      <th>12</th>\n",
       "      <td>2023-01-26</td>\n",
       "      <td>Lucy Mangan</td>\n",
       "      <td>Imagine: a Love Island for middle-aged, tired,...</td>\n",
       "      <td>https://www.theguardian.com/commentisfree/2023...</td>\n",
       "    </tr>\n",
       "    <tr>\n",
       "      <th>13</th>\n",
       "      <td>2023-01-26</td>\n",
       "      <td>David Edgerton</td>\n",
       "      <td>Britain, here’s a plan: stop applying old fixe...</td>\n",
       "      <td>https://www.theguardian.com/commentisfree/2023...</td>\n",
       "    </tr>\n",
       "  </tbody>\n",
       "</table>\n",
       "</div>"
      ],
      "text/plain": [
       "          date            author                                              title                                                url\n",
       "0   2023-01-27       Marina Hyde  Why is British politics a raging bin-fire? Don...  https://www.theguardian.com/commentisfree/2023...\n",
       "1   2023-01-27      James Bulgin  Hitler didn’t build the path to the Holocaust ...  https://www.theguardian.com/commentisfree/2023...\n",
       "2   2023-01-27     Judy Griffith  Where is the justice, Suella Braverman, for me...  https://www.theguardian.com/commentisfree/2023...\n",
       "3   2023-01-27     Gaby Hinsliff  Madonna is the material proof: older women roc...  https://www.theguardian.com/commentisfree/2023...\n",
       "4   2023-01-27     Simon Jenkins  Bright lights, big cities: cash and HS2 are no...  https://www.theguardian.com/commentisfree/2023...\n",
       "5   2023-01-27       Neal Lawson  Terrified of leavers and remainers, Labour off...  https://www.theguardian.com/commentisfree/2023...\n",
       "6   2023-01-27       Ammar Kalia  Farewell, Netflix password sharing. Never agai...  https://www.theguardian.com/commentisfree/2023...\n",
       "7   2023-01-26    George Monbiot  We are all playing Covid roulette. Without cle...  https://www.theguardian.com/commentisfree/2023...\n",
       "8   2023-01-26     Polly Toynbee  Britain lavishes benefits on plenty of rich pe...  https://www.theguardian.com/commentisfree/2023...\n",
       "9   2023-01-26  Jan-Philipp Hein  Don’t be fooled: Germany’s U-turn on sending t...  https://www.theguardian.com/commentisfree/2023...\n",
       "10  2023-01-26        Owen Jones  My dad died five years ago. I’ve learned it’s ...  https://www.theguardian.com/commentisfree/2023...\n",
       "11  2023-01-26     Robert Palmer  If you’re rich there are legal – and not so le...  https://www.theguardian.com/commentisfree/2023...\n",
       "12  2023-01-26       Lucy Mangan  Imagine: a Love Island for middle-aged, tired,...  https://www.theguardian.com/commentisfree/2023...\n",
       "13  2023-01-26    David Edgerton  Britain, here’s a plan: stop applying old fixe...  https://www.theguardian.com/commentisfree/2023..."
      ]
     },
     "metadata": {},
     "output_type": "display_data"
    }
   ],
   "source": [
    "main_export_to_csv()"
   ]
  },
  {
   "cell_type": "code",
   "execution_count": null,
   "id": "c59a4eb6",
   "metadata": {},
   "outputs": [],
   "source": []
  }
 ],
 "metadata": {
  "kernelspec": {
   "display_name": "Python 3 (ipykernel)",
   "language": "python",
   "name": "python3"
  },
  "language_info": {
   "codemirror_mode": {
    "name": "ipython",
    "version": 3
   },
   "file_extension": ".py",
   "mimetype": "text/x-python",
   "name": "python",
   "nbconvert_exporter": "python",
   "pygments_lexer": "ipython3",
   "version": "3.9.13"
  }
 },
 "nbformat": 4,
 "nbformat_minor": 5
}
